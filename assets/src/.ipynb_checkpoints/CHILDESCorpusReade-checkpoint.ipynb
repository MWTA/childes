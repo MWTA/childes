{
 "cells": [
  {
   "cell_type": "markdown",
   "metadata": {},
   "source": [
    "[Software: CHILDES Corpus Reader](http://www.nltk.org/howto/childes.html)\n",
    "\n",
    "Description: \n",
    "\n",
    "Date: 29/06/2018\n",
    "\n",
    "Author: RodriguesFAS\n",
    "\n",
    "Contact: <franciscosouzaacer@gmail.com>"
   ]
  },
  {
   "cell_type": "code",
   "execution_count": 27,
   "metadata": {},
   "outputs": [],
   "source": [
    "import nltk\n",
    "from nltk.corpus.reader import CHILDESCorpusReader"
   ]
  },
  {
   "cell_type": "code",
   "execution_count": 28,
   "metadata": {},
   "outputs": [],
   "source": [
    "corpus_root = nltk.data.find(\n",
    "    '/home/rodriguesfas/Mestrado/workspace/spectrum.prototype/dataset/corpora/childes/data-xml/eng-uk/Belfast/')"
   ]
  },
  {
   "cell_type": "code",
   "execution_count": 29,
   "metadata": {},
   "outputs": [],
   "source": [
    "ccr = CHILDESCorpusReader(corpus_root, 'Barbara/.*.xml')"
   ]
  },
  {
   "cell_type": "code",
   "execution_count": 30,
   "metadata": {},
   "outputs": [
    {
     "data": {
      "text/plain": [
       "[u'Barbara/020409.xml',\n",
       " u'Barbara/020616.xml',\n",
       " u'Barbara/020708.xml',\n",
       " u'Barbara/020912.xml',\n",
       " u'Barbara/021028.xml',\n",
       " u'Barbara/030219.xml',\n",
       " u'Barbara/030303.xml',\n",
       " u'Barbara/030420.xml',\n",
       " u'Barbara/030505.xml',\n",
       " u'Barbara/030609.xml',\n",
       " u'Barbara/030713.xml',\n",
       " u'Barbara/030910.xml',\n",
       " u'Barbara/031105.xml',\n",
       " u'Barbara/040118.xml',\n",
       " u'Barbara/barb01.xml',\n",
       " u'Barbara/barb02.xml',\n",
       " u'Barbara/barb03.xml',\n",
       " u'Barbara/barb04.xml',\n",
       " u'Barbara/barb06.xml',\n",
       " u'Barbara/barb07.xml',\n",
       " u'Barbara/barb08.xml',\n",
       " u'Barbara/barb09.xml',\n",
       " u'Barbara/barb10.xml',\n",
       " u'Barbara/barb11.xml',\n",
       " u'Barbara/barb12.xml',\n",
       " u'Barbara/barb13.xml',\n",
       " u'Barbara/barb14.xml',\n",
       " u'Barbara/barb15.xml']"
      ]
     },
     "execution_count": 30,
     "metadata": {},
     "output_type": "execute_result"
    }
   ],
   "source": [
    "ccr.fileids()"
   ]
  },
  {
   "cell_type": "code",
   "execution_count": 31,
   "metadata": {},
   "outputs": [
    {
     "data": {
      "text/plain": [
       "28"
      ]
     },
     "execution_count": 31,
     "metadata": {},
     "output_type": "execute_result"
    }
   ],
   "source": [
    "# Conte o número de arquivos.\n",
    "len(ccr.fileids())"
   ]
  },
  {
   "cell_type": "code",
   "execution_count": 32,
   "metadata": {},
   "outputs": [
    {
     "data": {
      "text/plain": [
       "'eng'"
      ]
     },
     "execution_count": 32,
     "metadata": {},
     "output_type": "execute_result"
    }
   ],
   "source": [
    "# Imprimindo propriedades dos arquivos corpus.\n",
    "corpus_data = ccr.corpus(ccr.fileids())\n",
    "(corpus_data[0]['Lang'])"
   ]
  },
  {
   "cell_type": "code",
   "execution_count": 33,
   "metadata": {},
   "outputs": [
    {
     "name": "stdout",
     "output_type": "stream",
     "text": [
      "('Corpus', ': ', 'Belfast')\n",
      "('Date', ': ', '1995-11-23')\n",
      "('Lang', ': ', 'eng')\n",
      "('PID', ': ', '11312/c-00018977-1')\n",
      "('Version', ': ', '2.6.1')\n",
      "('{http://www.w3.org/2001/XMLSchema-instance}schemaLocation', ': ', 'http://www.talkbank.org/ns/talkbank https://talkbank.org/software/talkbank.xsd')\n"
     ]
    }
   ],
   "source": [
    "for key in sorted(corpus_data[0].keys()):\n",
    "    print(key, \": \", corpus_data[0][key])"
   ]
  },
  {
   "cell_type": "code",
   "execution_count": 34,
   "metadata": {},
   "outputs": [
    {
     "name": "stdout",
     "output_type": "stream",
     "text": [
      "('CHI', ': ', [('SES', 'MC'), ('age', 'P2Y4M9D'), ('birthday', '1993-07-14'), ('id', 'CHI'), ('language', 'eng'), ('name', 'Barbara'), ('role', 'Target_Child'), ('sex', 'female')])\n",
      "('INV', ': ', [('id', 'INV'), ('language', 'eng'), ('name', 'Cathy'), ('role', 'Investigator')])\n",
      "('MOT', ': ', [('id', 'MOT'), ('language', 'eng'), ('name', 'Ruth'), ('role', 'Mother'), ('sex', 'female')])\n",
      "('CHI', ': ', [('SES', 'MC'), ('age', 'P2Y6M16D'), ('birthday', '1993-07-14'), ('id', 'CHI'), ('language', 'eng'), ('name', 'Barbara'), ('role', 'Target_Child'), ('sex', 'female')])\n",
      "('INV', ': ', [('id', 'INV'), ('language', 'eng'), ('name', 'Cathy'), ('role', 'Investigator')])\n",
      "('MOT', ': ', [('id', 'MOT'), ('language', 'eng'), ('name', 'Ruth'), ('role', 'Mother'), ('sex', 'female')])\n"
     ]
    }
   ],
   "source": [
    "# Imprimindo informações dos participantes do corpus. Os códigos mais comuns para os \n",
    "# participantes são 'CHI' (filho alvo), 'MOT' (mãe) e 'INV' (investigador).\n",
    "corpus_participants = ccr.participants(ccr.fileids())\n",
    "for this_corpus_participants in corpus_participants[:2]:\n",
    "    for key in sorted(this_corpus_participants.keys()):\n",
    "        dct = this_corpus_participants[key]\n",
    "        print(key, \": \", [(k, dct[k]) for k in sorted(dct.keys())])"
   ]
  },
  {
   "cell_type": "code",
   "execution_count": 35,
   "metadata": {},
   "outputs": [
    {
     "data": {
      "text/plain": [
       "['come', 'on', 'now', 'you', 'can', 'sit', 'up', ...]"
      ]
     },
     "execution_count": 35,
     "metadata": {},
     "output_type": "execute_result"
    }
   ],
   "source": [
    "# printing words.\n",
    "ccr.words('Barbara/020409.xml')"
   ]
  },
  {
   "cell_type": "code",
   "execution_count": 36,
   "metadata": {},
   "outputs": [
    {
     "data": {
      "text/plain": [
       "[['come', 'on', 'now'], ['you', 'can', 'sit', 'up', 'here', 'beside', 'me'], ...]"
      ]
     },
     "execution_count": 36,
     "metadata": {},
     "output_type": "execute_result"
    }
   ],
   "source": [
    "# printing sentences.\n",
    "ccr.sents('Barbara/020409.xml')"
   ]
  },
  {
   "cell_type": "code",
   "execution_count": 37,
   "metadata": {},
   "outputs": [
    {
     "data": {
      "text/plain": [
       "['come', 'on', 'now', 'you', 'can', 'sit', 'up', ...]"
      ]
     },
     "execution_count": 37,
     "metadata": {},
     "output_type": "execute_result"
    }
   ],
   "source": [
    "# Você pode especificar os participantes com o argumento speaker.\n",
    "ccr.words('Barbara/020409.xml',speaker=['INV'])"
   ]
  },
  {
   "cell_type": "code",
   "execution_count": 38,
   "metadata": {},
   "outputs": [
    {
     "data": {
      "text/plain": [
       "['all', 'these', 'toys', 'and', 'everything', 'though', ...]"
      ]
     },
     "execution_count": 38,
     "metadata": {},
     "output_type": "execute_result"
    }
   ],
   "source": [
    "ccr.words('Barbara/020409.xml',speaker=['MOT'])"
   ]
  },
  {
   "cell_type": "code",
   "execution_count": 39,
   "metadata": {},
   "outputs": [
    {
     "data": {
      "text/plain": [
       "['xxx', 'yeah', 'yeah', 'yeah', 'xxx', 'xxx', 'jelly', ...]"
      ]
     },
     "execution_count": 39,
     "metadata": {},
     "output_type": "execute_result"
    }
   ],
   "source": [
    "ccr.words('Barbara/020409.xml',speaker=['CHI'])"
   ]
  },
  {
   "cell_type": "code",
   "execution_count": 40,
   "metadata": {},
   "outputs": [
    {
     "data": {
      "text/plain": [
       "[('come', 'v'),\n",
       " ('on', 'adv'),\n",
       " ('now', 'adv'),\n",
       " ('you', 'pro:per'),\n",
       " ('can', 'mod'),\n",
       " ('sit', 'v'),\n",
       " ('up', 'adv'),\n",
       " ('here', 'adv'),\n",
       " ('beside', 'prep'),\n",
       " ('me', 'pro:obj'),\n",
       " ('there', 'adv'),\n",
       " ('come', 'v'),\n",
       " ('on', 'adv'),\n",
       " ('', 'prep'),\n",
       " ('I', 'pro:sub'),\n",
       " ('see', 'v'),\n",
       " ('you', 'pro:per'),\n",
       " ('all', 'qn'),\n",
       " ('these', 'pro:dem'),\n",
       " ('toys', 'n'),\n",
       " ('and', 'coord'),\n",
       " ('everything', 'pro:indef'),\n",
       " ('and', 'coord'),\n",
       " ('look', 'cop'),\n",
       " ('at', 'prep'),\n",
       " ('all', 'qn'),\n",
       " ('these', 'pro:dem'),\n",
       " ('videos', 'n'),\n",
       " ('too', 'post'),\n",
       " ('whose', 'pro:rel')]"
      ]
     },
     "execution_count": 40,
     "metadata": {},
     "output_type": "execute_result"
    }
   ],
   "source": [
    "# tagged_words () e tagged_sents () retornam as listas usuais de tuplas (word, pos). \n",
    "# As tags POS nos CHILDES são automaticamente atribuídas pelos programas MOR e POST (MacWhinney, 2000).\n",
    "ccr.tagged_words('Barbara/020409.xml')[:30]"
   ]
  },
  {
   "cell_type": "code",
   "execution_count": 41,
   "metadata": {},
   "outputs": [
    {
     "data": {
      "text/plain": [
       "[[('come', 'v'), ('on', 'adv'), ('now', 'adv')],\n",
       " [('you', 'pro:per'),\n",
       "  ('can', 'mod'),\n",
       "  ('sit', 'v'),\n",
       "  ('up', 'adv'),\n",
       "  ('here', 'adv'),\n",
       "  ('beside', 'prep'),\n",
       "  ('me', 'pro:obj')],\n",
       " [('there', 'adv')],\n",
       " [('come', 'v'),\n",
       "  ('on', 'adv'),\n",
       "  ('', 'prep'),\n",
       "  ('I', 'pro:sub'),\n",
       "  ('see', 'v'),\n",
       "  ('you', 'pro:per')],\n",
       " [('all', 'qn'),\n",
       "  ('these', 'pro:dem'),\n",
       "  ('toys', 'n'),\n",
       "  ('and', 'coord'),\n",
       "  ('everything', 'pro:indef')],\n",
       " [('and', 'coord'),\n",
       "  ('look', 'cop'),\n",
       "  ('at', 'prep'),\n",
       "  ('all', 'qn'),\n",
       "  ('these', 'pro:dem'),\n",
       "  ('videos', 'n'),\n",
       "  ('too', 'post')],\n",
       " [('whose', 'pro:rel'), ('are', 'cop'), ('all', 'qn'), ('these', 'pro:dem')],\n",
       " [('though', 'adv'),\n",
       "  (\"she's\", 'pro:sub~aux'),\n",
       "  ('not', 'neg'),\n",
       "  ('keen', 'v'),\n",
       "  ('on', 'prep'),\n",
       "  ('videos', 'n'),\n",
       "  ('I', 'pro:sub'),\n",
       "  ('must', 'mod'),\n",
       "  ('say', 'v')],\n",
       " [('is', 'cop'), ('she', 'pro:sub'), ('not', 'neg')],\n",
       " [('no', 'co'),\n",
       "  ('Tots_Tv', 'n:prop'),\n",
       "  ('Rosie_And_Jim', 'n:prop'),\n",
       "  ('and', 'coord'),\n",
       "  ('Snow_White', 'n:prop')]]"
      ]
     },
     "execution_count": 41,
     "metadata": {},
     "output_type": "execute_result"
    }
   ],
   "source": [
    "ccr.tagged_sents('Barbara/020409.xml')[:10]"
   ]
  },
  {
   "cell_type": "code",
   "execution_count": 42,
   "metadata": {},
   "outputs": [
    {
     "data": {
      "text/plain": [
       "['come',\n",
       " 'on',\n",
       " 'now',\n",
       " 'you',\n",
       " 'can',\n",
       " 'sit',\n",
       " 'up',\n",
       " 'here',\n",
       " 'beside',\n",
       " 'me',\n",
       " 'there',\n",
       " 'come',\n",
       " 'on',\n",
       " '',\n",
       " 'I',\n",
       " 'see',\n",
       " 'you',\n",
       " 'all',\n",
       " 'these',\n",
       " 'toys',\n",
       " 'and',\n",
       " 'everything',\n",
       " 'and',\n",
       " 'look',\n",
       " 'at',\n",
       " 'all',\n",
       " 'these',\n",
       " 'videos',\n",
       " 'too',\n",
       " 'whose']"
      ]
     },
     "execution_count": 42,
     "metadata": {},
     "output_type": "execute_result"
    }
   ],
   "source": [
    "# Quando o argumento stem é true, a palavra stems (por exemplo, 'is' -> 'be-3PS') \n",
    "# é usada como instrumental das palavras originais.\n",
    "ccr.words('Barbara/020409.xml')[:30]"
   ]
  },
  {
   "cell_type": "code",
   "execution_count": 43,
   "metadata": {},
   "outputs": [
    {
     "data": {
      "text/plain": [
       "['come',\n",
       " 'on',\n",
       " 'now',\n",
       " 'you',\n",
       " 'can',\n",
       " 'sit',\n",
       " 'up',\n",
       " 'here',\n",
       " 'beside',\n",
       " 'me',\n",
       " 'there',\n",
       " 'come',\n",
       " 'on',\n",
       " 'until',\n",
       " 'I',\n",
       " 'see',\n",
       " 'you',\n",
       " 'all',\n",
       " 'these',\n",
       " 'toy-PL',\n",
       " 'and',\n",
       " 'everything',\n",
       " 'and',\n",
       " 'look',\n",
       " 'at',\n",
       " 'all',\n",
       " 'these',\n",
       " 'video-PL',\n",
       " 'too',\n",
       " 'whose']"
      ]
     },
     "execution_count": 43,
     "metadata": {},
     "output_type": "execute_result"
    }
   ],
   "source": [
    "ccr.words('Barbara/020409.xml',stem=True)[:30]"
   ]
  },
  {
   "cell_type": "code",
   "execution_count": 44,
   "metadata": {},
   "outputs": [
    {
     "data": {
      "text/plain": [
       "'boys'"
      ]
     },
     "execution_count": 44,
     "metadata": {},
     "output_type": "execute_result"
    }
   ],
   "source": [
    "# Quando o argumento replace é true, as palavras substituídas são usadas com base nas palavras originais.\n",
    "ccr.words('Barbara/020409.xml',speaker='CHI')[247]"
   ]
  },
  {
   "cell_type": "code",
   "execution_count": 45,
   "metadata": {},
   "outputs": [
    {
     "data": {
      "text/plain": [
       "'boys'"
      ]
     },
     "execution_count": 45,
     "metadata": {},
     "output_type": "execute_result"
    }
   ],
   "source": [
    "ccr.words('Barbara/020409.xml',speaker='CHI',replace=True)[247]"
   ]
  },
  {
   "cell_type": "code",
   "execution_count": 46,
   "metadata": {},
   "outputs": [
    {
     "data": {
      "text/plain": [
       "[[('come', 'v', '1|0|ROOT'),\n",
       "  ('on', 'adv', '2|1|JCT'),\n",
       "  ('now', 'adv', '3|1|JCT')],\n",
       " [('you', 'pro:per', '1|3|SUBJ'),\n",
       "  ('can', 'mod', '2|3|AUX'),\n",
       "  ('sit', 'v', '3|0|ROOT'),\n",
       "  ('up', 'adv', '4|3|JCT'),\n",
       "  ('here', 'adv', '5|3|JCT'),\n",
       "  ('beside', 'prep', '6|3|JCT'),\n",
       "  ('me', 'pro:obj', '7|6|POBJ')],\n",
       " [('there', 'adv', '1|0|INCROOT')],\n",
       " [('come', 'v', '1|0|ROOT'),\n",
       "  ('on', 'adv', '2|1|JCT'),\n",
       "  ('until', 'prep', '3|5|LINK'),\n",
       "  ('I', 'pro:sub', '4|5|SUBJ'),\n",
       "  ('see', 'v', '5|1|CJCT'),\n",
       "  ('you', 'pro:per', '6|5|OBJ')],\n",
       " [('all', 'qn', '1|3|QUANT'),\n",
       "  ('these', 'pro:dem', '2|3|DET'),\n",
       "  ('toy-PL', 'n', '3|0|INCROOT'),\n",
       "  ('and', 'coord', '4|3|CONJ'),\n",
       "  ('everything', 'pro:indef', '5|4|COORD')],\n",
       " [('and', 'coord', '1|2|LINK'),\n",
       "  ('look', 'cop', '2|0|ROOT'),\n",
       "  ('at', 'prep', '3|2|JCT'),\n",
       "  ('all', 'qn', '4|6|QUANT'),\n",
       "  ('these', 'pro:dem', '5|6|DET'),\n",
       "  ('video-PL', 'n', '6|3|POBJ'),\n",
       "  ('too', 'post', '7|6|PQ')],\n",
       " [('whose', 'pro:rel', '1|2|LINK'),\n",
       "  ('be-PRES', 'cop', '2|0|ROOT'),\n",
       "  ('all', 'qn', '3|4|QUANT'),\n",
       "  ('these', 'pro:dem', '4|2|PRED')],\n",
       " [('though', 'adv', '1|5|JCT'),\n",
       "  ('she~be', 'pro:sub~aux', '2|5|SUBJ'),\n",
       "  ('not', 'neg', '4|3|NEG'),\n",
       "  ('keen', 'v', '5|0|ROOT'),\n",
       "  ('on', 'prep', '6|5|JCT'),\n",
       "  ('video-PL', 'n', '7|6|POBJ'),\n",
       "  ('I', 'pro:sub', '8|10|SUBJ'),\n",
       "  ('must', 'mod', '9|10|AUX'),\n",
       "  ('say', 'v', '10|5|CJCT')],\n",
       " [('be-3S', 'cop', '1|0|ROOT'),\n",
       "  ('she', 'pro:sub', '2|1|PRED'),\n",
       "  ('not', 'neg', '3|2|NEG')],\n",
       " [('no', 'co', '1|0|BEG'),\n",
       "  ('Tots_Tv', 'n:prop', '3|4|NAME'),\n",
       "  ('Rosie_And_Jim', 'n:prop', '4|0|ROOT'),\n",
       "  ('and', 'coord', '5|4|CONJ'),\n",
       "  ('Snow_White', 'n:prop', '6|5|COORD')]]"
      ]
     },
     "execution_count": 46,
     "metadata": {},
     "output_type": "execute_result"
    }
   ],
   "source": [
    "# Quando a relação de argumento é verdadeira, os relacionamentos relacionais na sentença \n",
    "# são retornados. Veja Sagae et al. (2010) para detalhes da estrutura relacional adotada \n",
    "# nas CRIANÇAS.\n",
    "ccr.words('Barbara/020409.xml',relation=True)[:10]"
   ]
  },
  {
   "cell_type": "code",
   "execution_count": 47,
   "metadata": {},
   "outputs": [
    {
     "data": {
      "text/plain": [
       "['P2Y4M9D', 'P2Y6M16D', 'P2Y7M8D', 'P2Y9M12D', ...]"
      ]
     },
     "execution_count": 47,
     "metadata": {},
     "output_type": "execute_result"
    }
   ],
   "source": [
    "# Idade de impressão. Quando o mês do argumento é verdadeiro, as informações de idade no \n",
    "# formato CHILDES são convertidas no número de meses.\n",
    "ccr.age()"
   ]
  },
  {
   "cell_type": "code",
   "execution_count": 48,
   "metadata": {},
   "outputs": [
    {
     "data": {
      "text/plain": [
       "['P2Y4M9D']"
      ]
     },
     "execution_count": 48,
     "metadata": {},
     "output_type": "execute_result"
    }
   ],
   "source": [
    "ccr.age('Barbara/020409.xml')"
   ]
  },
  {
   "cell_type": "code",
   "execution_count": 49,
   "metadata": {},
   "outputs": [
    {
     "data": {
      "text/plain": [
       "[28]"
      ]
     },
     "execution_count": 49,
     "metadata": {},
     "output_type": "execute_result"
    }
   ],
   "source": [
    "ccr.age('Barbara/020409.xml',month=True)"
   ]
  },
  {
   "cell_type": "code",
   "execution_count": 50,
   "metadata": {},
   "outputs": [
    {
     "data": {
      "text/plain": [
       "[3.3577235772357725, 5.0, 6.0162162162162165, ...]"
      ]
     },
     "execution_count": 50,
     "metadata": {},
     "output_type": "execute_result"
    }
   ],
   "source": [
    "# Imprimindo MLU. Os critérios para o cálculo do MLU são amplamente baseados em Brown (1973).\n",
    "ccr.MLU()"
   ]
  },
  {
   "cell_type": "code",
   "execution_count": 51,
   "metadata": {},
   "outputs": [
    {
     "data": {
      "text/plain": [
       "[3.3577235772357725]"
      ]
     },
     "execution_count": 51,
     "metadata": {},
     "output_type": "execute_result"
    }
   ],
   "source": [
    "ccr.MLU('Barbara/020409.xml')"
   ]
  },
  {
   "cell_type": "markdown",
   "metadata": {},
   "source": [
    "# Coisas básicas"
   ]
  },
  {
   "cell_type": "code",
   "execution_count": 55,
   "metadata": {},
   "outputs": [],
   "source": [
    "# Conte o número de palavras e frases de cada arquivo.\n",
    "ccr = CHILDESCorpusReader(corpus_root, 'Barbara/.*.xml')"
   ]
  },
  {
   "cell_type": "code",
   "execution_count": 56,
   "metadata": {},
   "outputs": [
    {
     "ename": "KeyError",
     "evalue": "'Id'",
     "output_type": "error",
     "traceback": [
      "\u001b[0;31m---------------------------------------------------------------------------\u001b[0m",
      "\u001b[0;31mKeyError\u001b[0m                                  Traceback (most recent call last)",
      "\u001b[0;32m<ipython-input-56-6c3417341795>\u001b[0m in \u001b[0;36m<module>\u001b[0;34m()\u001b[0m\n\u001b[1;32m      1\u001b[0m \u001b[0;32mfor\u001b[0m \u001b[0mthis_file\u001b[0m \u001b[0;32min\u001b[0m \u001b[0mccr\u001b[0m\u001b[0;34m.\u001b[0m\u001b[0mfileids\u001b[0m\u001b[0;34m(\u001b[0m\u001b[0;34m)\u001b[0m\u001b[0;34m[\u001b[0m\u001b[0;34m:\u001b[0m\u001b[0;36m6\u001b[0m\u001b[0;34m]\u001b[0m\u001b[0;34m:\u001b[0m\u001b[0;34m\u001b[0m\u001b[0m\n\u001b[0;32m----> 2\u001b[0;31m     \u001b[0;32mprint\u001b[0m\u001b[0;34m(\u001b[0m\u001b[0mccr\u001b[0m\u001b[0;34m.\u001b[0m\u001b[0mcorpus\u001b[0m\u001b[0;34m(\u001b[0m\u001b[0mthis_file\u001b[0m\u001b[0;34m)\u001b[0m\u001b[0;34m[\u001b[0m\u001b[0;36m0\u001b[0m\u001b[0;34m]\u001b[0m\u001b[0;34m[\u001b[0m\u001b[0;34m'Corpus'\u001b[0m\u001b[0;34m]\u001b[0m\u001b[0;34m,\u001b[0m \u001b[0mccr\u001b[0m\u001b[0;34m.\u001b[0m\u001b[0mcorpus\u001b[0m\u001b[0;34m(\u001b[0m\u001b[0mthis_file\u001b[0m\u001b[0;34m)\u001b[0m\u001b[0;34m[\u001b[0m\u001b[0;36m0\u001b[0m\u001b[0;34m]\u001b[0m\u001b[0;34m[\u001b[0m\u001b[0;34m'Id'\u001b[0m\u001b[0;34m]\u001b[0m\u001b[0;34m)\u001b[0m\u001b[0;34m\u001b[0m\u001b[0m\n\u001b[0m\u001b[1;32m      3\u001b[0m     \u001b[0;32mprint\u001b[0m\u001b[0;34m(\u001b[0m\u001b[0;34m\"num of words: %i\"\u001b[0m \u001b[0;34m%\u001b[0m \u001b[0mlen\u001b[0m\u001b[0;34m(\u001b[0m\u001b[0mccr\u001b[0m\u001b[0;34m.\u001b[0m\u001b[0mwords\u001b[0m\u001b[0;34m(\u001b[0m\u001b[0mthis_file\u001b[0m\u001b[0;34m)\u001b[0m\u001b[0;34m)\u001b[0m\u001b[0;34m)\u001b[0m\u001b[0;34m\u001b[0m\u001b[0m\n\u001b[1;32m      4\u001b[0m     \u001b[0;32mprint\u001b[0m\u001b[0;34m(\u001b[0m\u001b[0;34m\"num of sents: %i\"\u001b[0m \u001b[0;34m%\u001b[0m \u001b[0mlen\u001b[0m\u001b[0;34m(\u001b[0m\u001b[0mccr\u001b[0m\u001b[0;34m.\u001b[0m\u001b[0msents\u001b[0m\u001b[0;34m(\u001b[0m\u001b[0mthis_file\u001b[0m\u001b[0;34m)\u001b[0m\u001b[0;34m)\u001b[0m\u001b[0;34m)\u001b[0m\u001b[0;34m\u001b[0m\u001b[0m\n",
      "\u001b[0;31mKeyError\u001b[0m: 'Id'"
     ]
    }
   ],
   "source": [
    "for this_file in ccr.fileids()[:6]:\n",
    "    print(ccr.corpus(this_file)[0]['Corpus'], ccr.corpus(this_file)[0]['Id'])\n",
    "    print(\"num of words: %i\" % len(ccr.words(this_file)))\n",
    "    print(\"num of sents: %i\" % len(ccr.sents(this_file)))"
   ]
  },
  {
   "cell_type": "code",
   "execution_count": null,
   "metadata": {},
   "outputs": [],
   "source": []
  }
 ],
 "metadata": {
  "kernelspec": {
   "display_name": "Python 2",
   "language": "python",
   "name": "python2"
  },
  "language_info": {
   "codemirror_mode": {
    "name": "ipython",
    "version": 2
   },
   "file_extension": ".py",
   "mimetype": "text/x-python",
   "name": "python",
   "nbconvert_exporter": "python",
   "pygments_lexer": "ipython2",
   "version": "2.7.15"
  }
 },
 "nbformat": 4,
 "nbformat_minor": 2
}
